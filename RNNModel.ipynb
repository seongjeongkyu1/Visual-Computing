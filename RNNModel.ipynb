{
  "nbformat": 4,
  "nbformat_minor": 0,
  "metadata": {
    "colab": {
      "provenance": [],
      "gpuType": "T4"
    },
    "kernelspec": {
      "name": "python3",
      "display_name": "Python 3"
    },
    "language_info": {
      "name": "python"
    },
    "accelerator": "GPU"
  },
  "cells": [
    {
      "cell_type": "markdown",
      "source": [
        "#필요한 모듈 임포트"
      ],
      "metadata": {
        "id": "6OTeU3T90cMr"
      }
    },
    {
      "cell_type": "code",
      "execution_count": null,
      "metadata": {
        "colab": {
          "base_uri": "https://localhost:8080/"
        },
        "id": "-2A72oDd0TNF",
        "outputId": "0a82e43d-9365-4fd4-a7f5-044c0327594f"
      },
      "outputs": [
        {
          "output_type": "stream",
          "name": "stdout",
          "text": [
            "Python: 3.10.11 (main, Apr  5 2023, 14:15:10) [GCC 9.4.0]\n",
            "Numpy: 1.22.4\n",
            "Torch:  2.0.1+cu118\n"
          ]
        }
      ],
      "source": [
        "import sys\n",
        "import time\n",
        "import numpy as np\n",
        "import pandas as pd\n",
        "import matplotlib.pyplot as plt\n",
        "\n",
        "import datetime\n",
        "import yfinance as yf\n",
        "\n",
        "import torch\n",
        "import torch.nn as nn\n",
        "from torch.autograd import Variable \n",
        "\n",
        "import torch.optim as optim\n",
        "from torch.utils.data import Dataset, DataLoader\n",
        "\n",
        "print(\"Python:\", sys.version)\n",
        "print(\"Numpy:\", np.__version__)\n",
        "\n",
        "print(\"Torch: \", torch.__version__)               # 파이토치 버전을 확인하도록 한다.\n"
      ]
    },
    {
      "cell_type": "markdown",
      "source": [
        "#GPU 동작 확인"
      ],
      "metadata": {
        "id": "ygTkFdxr1Etm"
      }
    },
    {
      "cell_type": "code",
      "source": [
        "device = torch.device(\"cuda:0\" if torch.cuda.is_available() else \"cpu\")\n",
        "print(device)\n",
        "use_cuda = torch.cuda.is_available()\n",
        "print(use_cuda)\n",
        "if use_cuda:\n",
        "  print(torch.cuda.get_device_name(0))"
      ],
      "metadata": {
        "colab": {
          "base_uri": "https://localhost:8080/"
        },
        "id": "a4jdIqV11Hfw",
        "outputId": "1c681a87-7924-4d5a-f4b2-228e28f91c27"
      },
      "execution_count": null,
      "outputs": [
        {
          "output_type": "stream",
          "name": "stdout",
          "text": [
            "cuda:0\n",
            "True\n",
            "Tesla T4\n"
          ]
        }
      ]
    },
    {
      "cell_type": "markdown",
      "source": [
        "#Hyperparameter 설정"
      ],
      "metadata": {
        "id": "d40-cxgl1TrZ"
      }
    },
    {
      "cell_type": "code",
      "source": [
        "num_epochs = 30000      #30000 epochs\n",
        "learning_rate = 0.00001       #0.001 학습률\n",
        "\n",
        "input_size = 5      # 입력 특성 수\n",
        "hidden_size = 2       # 은닉 상태의 특성 수\n",
        "num_layers = 1      # 쌓을 LSTM 레이어 수\n",
        "\n",
        "num_classes = 1     #출력 클래스 수"
      ],
      "metadata": {
        "id": "8Y8BTZI81XT7"
      },
      "execution_count": null,
      "outputs": []
    },
    {
      "cell_type": "markdown",
      "source": [
        "#Apple 주식 불러오기"
      ],
      "metadata": {
        "id": "dtUSY5fr1tvr"
      }
    },
    {
      "cell_type": "code",
      "source": [
        "# 시작일과 종료일 설정\n",
        "# 우크라이나 러시아 전쟁이 터진 직후의 애플 주식의 저점이였던 날을 end로 잡음\n",
        "start = datetime.datetime(2000, 1, 1)\n",
        "end = datetime.datetime(2022, 2, 24)\n",
        "\n",
        "# yahoo 에서 애플 불러오기 \n",
        "df = yf.download('AAPL', start=start, end=end)\n",
        "\n",
        "df.head(5)\n",
        "df.tail(5)\n",
        "df.Close.plot(grid=True)"
      ],
      "metadata": {
        "colab": {
          "base_uri": "https://localhost:8080/",
          "height": 458
        },
        "id": "PSFkhw-g1yKK",
        "outputId": "3b6e78fc-bd51-49ec-a740-b5aa74d39b86"
      },
      "execution_count": null,
      "outputs": [
        {
          "output_type": "stream",
          "name": "stdout",
          "text": [
            "\r[*********************100%***********************]  1 of 1 completed\n"
          ]
        },
        {
          "output_type": "execute_result",
          "data": {
            "text/plain": [
              "<Axes: xlabel='Date'>"
            ]
          },
          "metadata": {},
          "execution_count": 15
        },
        {
          "output_type": "display_data",
          "data": {
            "text/plain": [
              "<Figure size 640x480 with 1 Axes>"
            ],
            "image/png": "[encoded data removed]"
          },
          "metadata": {}
        }
      ]
    },
    {
      "cell_type": "markdown",
      "source": [
        "#데이터셋 준비"
      ],
      "metadata": {
        "id": "VF6z6CF82Kzz"
      }
    },
    {
      "cell_type": "code",
      "source": [
        "\"\"\"\n",
        "open 시가\n",
        "high 고가\n",
        "low 저가\n",
        "close 종가\n",
        "volume 거래량\n",
        "Adj Close 주식의 분할, 배당, 배분 등을 고려해 조정한 종가\n",
        "\"\"\"\n",
        "X = df.drop(columns='Volume')\n",
        "y = df.iloc[:, 5:6]\n",
        "\n",
        "print(X)\n",
        "print(y)"
      ],
      "metadata": {
        "colab": {
          "base_uri": "https://localhost:8080/"
        },
        "id": "fhL7qYq-2NAI",
        "outputId": "357b9615-2a60-489a-d61b-d616babe10a6"
      },
      "execution_count": null,
      "outputs": [
        {
          "output_type": "stream",
          "name": "stdout",
          "text": [
            "                  Open        High         Low       Close   Adj Close\n",
            "Date                                                                  \n",
            "2000-01-03    0.936384    1.004464    0.907924    0.999442    0.849469\n",
            "2000-01-04    0.966518    0.987723    0.903460    0.915179    0.777850\n",
            "2000-01-05    0.926339    0.987165    0.919643    0.928571    0.789232\n",
            "2000-01-06    0.947545    0.955357    0.848214    0.848214    0.720933\n",
            "2000-01-07    0.861607    0.901786    0.852679    0.888393    0.755083\n",
            "...                ...         ...         ...         ...         ...\n",
            "2022-02-16  171.850006  173.339996  170.050003  172.550003  171.274139\n",
            "2022-02-17  171.029999  171.910004  168.470001  168.880005  167.631287\n",
            "2022-02-18  169.820007  170.539993  166.190002  167.300003  166.062958\n",
            "2022-02-22  164.979996  166.690002  162.149994  164.320007  163.104996\n",
            "2022-02-23  165.539993  166.149994  159.750000  160.070007  158.886414\n",
            "\n",
            "[5572 rows x 5 columns]\n",
            "               Volume\n",
            "Date                 \n",
            "2000-01-03  535796800\n",
            "2000-01-04  512377600\n",
            "2000-01-05  778321600\n",
            "2000-01-06  767972800\n",
            "2000-01-07  460734400\n",
            "...               ...\n",
            "2022-02-16   61177400\n",
            "2022-02-17   69589300\n",
            "2022-02-18   82772700\n",
            "2022-02-22   91162800\n",
            "2022-02-23   90009200\n",
            "\n",
            "[5572 rows x 1 columns]\n"
          ]
        }
      ]
    },
    {
      "cell_type": "markdown",
      "source": [
        "#데이터셋 normalization"
      ],
      "metadata": {
        "id": "Z2CIogyOZsB7"
      }
    },
    {
      "cell_type": "code",
      "source": [
        "from sklearn.preprocessing import StandardScaler, MinMaxScaler\n",
        "mm = MinMaxScaler()\n",
        "ss = StandardScaler()\n",
        "\n",
        "X_ss = ss.fit_transform(X)\n",
        "y_mm = mm.fit_transform(y) \n",
        "\n",
        "# Train 데이터\n",
        "X_train = X_ss[:4500, :]\n",
        "X_test = X_ss[4500:, :]\n",
        "\n",
        "# Test 데이터\n",
        "y_train = y_mm[:4500, :]\n",
        "y_test = y_mm[4500:, :] \n",
        "\n",
        "print(\"Training Shape\", X_train.shape, y_train.shape)\n",
        "print(\"Testing Shape\", X_test.shape, y_test.shape) "
      ],
      "metadata": {
        "colab": {
          "base_uri": "https://localhost:8080/"
        },
        "id": "MFdG1Szn2Tp9",
        "outputId": "644d7665-29ea-4de2-8855-4af09ca534c5"
      },
      "execution_count": null,
      "outputs": [
        {
          "output_type": "stream",
          "name": "stdout",
          "text": [
            "Training Shape (4500, 5) (4500, 1)\n",
            "Testing Shape (1072, 5) (1072, 1)\n"
          ]
        }
      ]
    },
    {
      "cell_type": "markdown",
      "source": [
        "#데이터셋을 텐서로 변환"
      ],
      "metadata": {
        "id": "_CetFqiyZvXO"
      }
    },
    {
      "cell_type": "code",
      "source": [
        "X_train_tensors = Variable(torch.Tensor(X_train))       # 학습 데이터의 입력 특성을 텐서로 변환\n",
        "X_test_tensors = Variable(torch.Tensor(X_test))         # 테스트 데이터의 입력 특성을 텐서로 변환\n",
        "\n",
        "y_train_tensors = Variable(torch.Tensor(y_train))       # 학습 데이터의 출력 레이블을 텐서로 변환\n",
        "y_test_tensors = Variable(torch.Tensor(y_test))          # 테스트 데이터의 출력 레이블을 텐서로 변환\n",
        "\n",
        "X_train_tensors_final = torch.reshape(X_train_tensors, (X_train_tensors.shape[0], 1, X_train_tensors.shape[1]))        # 학습 데이터의 텐서 크기 조정\n",
        "X_test_tensors_final = torch.reshape(X_test_tensors, (X_test_tensors.shape[0], 1, X_test_tensors.shape[1]))            # 테스트 데이터의 텐서 크기 조정\n",
        "\n",
        "print(\"Training Shape\", X_train_tensors_final.shape, y_train_tensors.shape)         # 학습 데이터의 모양 출력\n",
        "print(\"Testing Shape\", X_test_tensors_final.shape, y_test_tensors.shape)             # 테스트 데이터의 모양 출력\n"
      ],
      "metadata": {
        "colab": {
          "base_uri": "https://localhost:8080/"
        },
        "id": "6KeQGyv_2b5C",
        "outputId": "223bd73d-f3fe-4bbf-dc5f-61fe01dc51f0"
      },
      "execution_count": null,
      "outputs": [
        {
          "output_type": "stream",
          "name": "stdout",
          "text": [
            "Training Shape torch.Size([4500, 1, 5]) torch.Size([4500, 1])\n",
            "Testing Shape torch.Size([1072, 1, 5]) torch.Size([1072, 1])\n"
          ]
        }
      ]
    },
    {
      "cell_type": "code",
      "source": [
        "class RNNModel(nn.Module):\n",
        "    def __init__(self, input_size, hidden_size, num_layers, num_classes):\n",
        "        super(RNNModel, self).__init__()\n",
        "        self.hidden_size = hidden_size\n",
        "        self.num_layers = num_layers\n",
        "\n",
        "        self.rnn = nn.RNN(input_size, hidden_size, num_layers, batch_first=True)        # RNN 레이어 초기화\n",
        "        self.fc = nn.Linear(hidden_size, num_classes)                                   # 완전 연결 레이어 초기화\n",
        "        self.relu = nn.ReLU()                                                           # ReLU 활성화 함수\n",
        "\n",
        "    def forward(self, x):\n",
        "        h_0 = torch.zeros(self.num_layers, x.size(0), self.hidden_size).to(x.device)    # 초기 은닉 상태 생성\n",
        "\n",
        "        out, _ = self.rnn(x, h_0)                      # RNN 레이어 수행\n",
        "        out = out[:, -1, :]                            # 마지막 시퀀스 출력만 선택\n",
        "        out = self.relu(out)                           # ReLU 활성화 함수 적용\n",
        "        out = self.fc(out)                             # 완전 연결 레이어 적용\n",
        "\n",
        "        return out\n"
      ],
      "metadata": {
        "id": "l-9im3bfXdZO"
      },
      "execution_count": null,
      "outputs": []
    },
    {
      "cell_type": "code",
      "source": [
        "rnn = RNNModel(input_size, hidden_size, num_layers, num_classes).to(device)       # RNN 모델 인스턴스 생성 및 디바이스에 할당\n",
        "\n",
        "criterion = nn.MSELoss()            # 평균 제곱 오차(MSE) 손실 함수 정의\n",
        "optimizer = torch.optim.Adam(rnn.parameters(), lr=learning_rate)        # Adam 옵티마이저 생성 및 모델의 파라미터를 등록하여 최적화 수행\n"
      ],
      "metadata": {
        "id": "sEkJjK_6Xk1A"
      },
      "execution_count": null,
      "outputs": []
    },
    {
      "cell_type": "code",
      "source": [
        "for epoch in range(num_epochs):\n",
        "    # Forward 패스\n",
        "    outputs = rnn(X_train_tensors_final.to(device))         # 입력 데이터를 모델에 전달하여 예측값 계산\n",
        "    loss = criterion(outputs, y_train_tensors.to(device))         # 예측값과 실제 값 사이의 손실 계산\n",
        "\n",
        "    # Backward 패스 및 최적화\n",
        "    optimizer.zero_grad()        # 기울기 초기화\n",
        "    loss.backward()              # backpropagation을 통해 기울기 계산\n",
        "    optimizer.step()             # 옵티마이저를 사용하여 모델의 파라미터 업데이트\n",
        "\n",
        "    if (epoch + 1) % 100 == 0:\n",
        "        print(f'Epoch: {epoch+1}/{num_epochs}, Loss: {loss.item()}')        # 일정 간격으로 현재 에포크와 손실 출력\n"
      ],
      "metadata": {
        "colab": {
          "base_uri": "https://localhost:8080/"
        },
        "id": "k9LclT9rXrxR",
        "outputId": "700e14bb-2a9d-4a45-a3dd-33748413fdfe"
      },
      "execution_count": null,
      "outputs": [
        {
          "output_type": "stream",
          "name": "stdout",
          "text": [
            "Epoch: 100/30000, Loss: 0.30538487434387207\n",
            "Epoch: 200/30000, Loss: 0.30325847864151\n",
            "Epoch: 300/30000, Loss: 0.30113765597343445\n",
            "Epoch: 400/30000, Loss: 0.29902201890945435\n",
            "Epoch: 500/30000, Loss: 0.2969120144844055\n",
            "Epoch: 600/30000, Loss: 0.2948125898838043\n",
            "Epoch: 700/30000, Loss: 0.2927185893058777\n",
            "Epoch: 800/30000, Loss: 0.290629506111145\n",
            "Epoch: 900/30000, Loss: 0.2885458469390869\n",
            "Epoch: 1000/30000, Loss: 0.28647342324256897\n",
            "Epoch: 1100/30000, Loss: 0.2844066917896271\n",
            "Epoch: 1200/30000, Loss: 0.2823455035686493\n",
            "Epoch: 1300/30000, Loss: 0.2802894413471222\n",
            "Epoch: 1400/30000, Loss: 0.27823910117149353\n",
            "Epoch: 1500/30000, Loss: 0.2762008011341095\n",
            "Epoch: 1600/30000, Loss: 0.27416864037513733\n",
            "Epoch: 1700/30000, Loss: 0.27214187383651733\n",
            "Epoch: 1800/30000, Loss: 0.27012118697166443\n",
            "Epoch: 1900/30000, Loss: 0.2681065499782562\n",
            "Epoch: 2000/30000, Loss: 0.2660976052284241\n",
            "Epoch: 2100/30000, Loss: 0.2640987038612366\n",
            "Epoch: 2200/30000, Loss: 0.2621082663536072\n",
            "Epoch: 2300/30000, Loss: 0.2601237893104553\n",
            "Epoch: 2400/30000, Loss: 0.2581450939178467\n",
            "Epoch: 2500/30000, Loss: 0.2561730146408081\n",
            "Epoch: 2600/30000, Loss: 0.2542073130607605\n",
            "Epoch: 2700/30000, Loss: 0.2522474527359009\n",
            "Epoch: 2800/30000, Loss: 0.2502937316894531\n",
            "Epoch: 2900/30000, Loss: 0.24834927916526794\n",
            "Epoch: 3000/30000, Loss: 0.24641472101211548\n",
            "Epoch: 3100/30000, Loss: 0.2444862723350525\n",
            "Epoch: 3200/30000, Loss: 0.24256491661071777\n",
            "Epoch: 3300/30000, Loss: 0.24064987897872925\n",
            "Epoch: 3400/30000, Loss: 0.23874089121818542\n",
            "Epoch: 3500/30000, Loss: 0.2368386834859848\n",
            "Epoch: 3600/30000, Loss: 0.2349434196949005\n",
            "Epoch: 3700/30000, Loss: 0.23305454850196838\n",
            "Epoch: 3800/30000, Loss: 0.23117226362228394\n",
            "Epoch: 3900/30000, Loss: 0.22929741442203522\n",
            "Epoch: 4000/30000, Loss: 0.22742898762226105\n",
            "Epoch: 4100/30000, Loss: 0.2255670428276062\n",
            "Epoch: 4200/30000, Loss: 0.22371721267700195\n",
            "Epoch: 4300/30000, Loss: 0.22187486290931702\n",
            "Epoch: 4400/30000, Loss: 0.22003911435604095\n",
            "Epoch: 4500/30000, Loss: 0.21821026504039764\n",
            "Epoch: 4600/30000, Loss: 0.21638883650302887\n",
            "Epoch: 4700/30000, Loss: 0.21457424759864807\n",
            "Epoch: 4800/30000, Loss: 0.21276624500751495\n",
            "Epoch: 4900/30000, Loss: 0.21096540987491608\n",
            "Epoch: 5000/30000, Loss: 0.20917172729969025\n",
            "Epoch: 5100/30000, Loss: 0.20738495886325836\n",
            "Epoch: 5200/30000, Loss: 0.20560485124588013\n",
            "Epoch: 5300/30000, Loss: 0.203832745552063\n",
            "Epoch: 5400/30000, Loss: 0.20206765830516815\n",
            "Epoch: 5500/30000, Loss: 0.20030944049358368\n",
            "Epoch: 5600/30000, Loss: 0.19855840504169464\n",
            "Epoch: 5700/30000, Loss: 0.19681493937969208\n",
            "Epoch: 5800/30000, Loss: 0.19507843255996704\n",
            "Epoch: 5900/30000, Loss: 0.19334882497787476\n",
            "Epoch: 6000/30000, Loss: 0.19162696599960327\n",
            "Epoch: 6100/30000, Loss: 0.18991264700889587\n",
            "Epoch: 6200/30000, Loss: 0.1882106065750122\n",
            "Epoch: 6300/30000, Loss: 0.1865154653787613\n",
            "Epoch: 6400/30000, Loss: 0.18482837080955505\n",
            "Epoch: 6500/30000, Loss: 0.18314848840236664\n",
            "Epoch: 6600/30000, Loss: 0.18147560954093933\n",
            "Epoch: 6700/30000, Loss: 0.17980992794036865\n",
            "Epoch: 6800/30000, Loss: 0.17815209925174713\n",
            "Epoch: 6900/30000, Loss: 0.17650169134140015\n",
            "Epoch: 7000/30000, Loss: 0.17485837638378143\n",
            "Epoch: 7100/30000, Loss: 0.17322269082069397\n",
            "Epoch: 7200/30000, Loss: 0.17159488797187805\n",
            "Epoch: 7300/30000, Loss: 0.1699744164943695\n",
            "Epoch: 7400/30000, Loss: 0.16836124658584595\n",
            "Epoch: 7500/30000, Loss: 0.1667557954788208\n",
            "Epoch: 7600/30000, Loss: 0.1651579886674881\n",
            "Epoch: 7700/30000, Loss: 0.16356751322746277\n",
            "Epoch: 7800/30000, Loss: 0.16198433935642242\n",
            "Epoch: 7900/30000, Loss: 0.16040915250778198\n",
            "Epoch: 8000/30000, Loss: 0.15884333848953247\n",
            "Epoch: 8100/30000, Loss: 0.15728579461574554\n",
            "Epoch: 8200/30000, Loss: 0.15573576092720032\n",
            "Epoch: 8300/30000, Loss: 0.1541939377784729\n",
            "Epoch: 8400/30000, Loss: 0.15265944600105286\n",
            "Epoch: 8500/30000, Loss: 0.15113236010074615\n",
            "Epoch: 8600/30000, Loss: 0.14961284399032593\n",
            "Epoch: 8700/30000, Loss: 0.14810149371623993\n",
            "Epoch: 8800/30000, Loss: 0.14659751951694489\n",
            "Epoch: 8900/30000, Loss: 0.1451009064912796\n",
            "Epoch: 9000/30000, Loss: 0.14361222088336945\n",
            "Epoch: 9100/30000, Loss: 0.14213192462921143\n",
            "Epoch: 9200/30000, Loss: 0.14066140353679657\n",
            "Epoch: 9300/30000, Loss: 0.13919830322265625\n",
            "Epoch: 9400/30000, Loss: 0.1377432495355606\n",
            "Epoch: 9500/30000, Loss: 0.13629604876041412\n",
            "Epoch: 9600/30000, Loss: 0.13485629856586456\n",
            "Epoch: 9700/30000, Loss: 0.13342399895191193\n",
            "Epoch: 9800/30000, Loss: 0.13199996948242188\n",
            "Epoch: 9900/30000, Loss: 0.13058365881443024\n",
            "Epoch: 10000/30000, Loss: 0.1291748434305191\n",
            "Epoch: 10100/30000, Loss: 0.1277736872434616\n",
            "Epoch: 10200/30000, Loss: 0.12638165056705475\n",
            "Epoch: 10300/30000, Loss: 0.12499891966581345\n",
            "Epoch: 10400/30000, Loss: 0.12362372875213623\n",
            "Epoch: 10500/30000, Loss: 0.12225650995969772\n",
            "Epoch: 10600/30000, Loss: 0.12089721858501434\n",
            "Epoch: 10700/30000, Loss: 0.11954546719789505\n",
            "Epoch: 10800/30000, Loss: 0.1182013526558876\n",
            "Epoch: 10900/30000, Loss: 0.11686556041240692\n",
            "Epoch: 11000/30000, Loss: 0.11553741246461868\n",
            "Epoch: 11100/30000, Loss: 0.11421678215265274\n",
            "Epoch: 11200/30000, Loss: 0.1129051223397255\n",
            "Epoch: 11300/30000, Loss: 0.11160261929035187\n",
            "Epoch: 11400/30000, Loss: 0.11030808091163635\n",
            "Epoch: 11500/30000, Loss: 0.10902108997106552\n",
            "Epoch: 11600/30000, Loss: 0.10774241387844086\n",
            "Epoch: 11700/30000, Loss: 0.10647149384021759\n",
            "Epoch: 11800/30000, Loss: 0.1052081361413002\n",
            "Epoch: 11900/30000, Loss: 0.10395274311304092\n",
            "Epoch: 12000/30000, Loss: 0.10270535200834274\n",
            "Epoch: 12100/30000, Loss: 0.10146646946668625\n",
            "Epoch: 12200/30000, Loss: 0.10023631900548935\n",
            "Epoch: 12300/30000, Loss: 0.09901443868875504\n",
            "Epoch: 12400/30000, Loss: 0.09780014306306839\n",
            "Epoch: 12500/30000, Loss: 0.09659384936094284\n",
            "Epoch: 12600/30000, Loss: 0.09539586305618286\n",
            "Epoch: 12700/30000, Loss: 0.09420560300350189\n",
            "Epoch: 12800/30000, Loss: 0.0930229127407074\n",
            "Epoch: 12900/30000, Loss: 0.09184863418340683\n",
            "Epoch: 13000/30000, Loss: 0.090683713555336\n",
            "Epoch: 13100/30000, Loss: 0.08952640742063522\n",
            "Epoch: 13200/30000, Loss: 0.088376984000206\n",
            "Epoch: 13300/30000, Loss: 0.08723556995391846\n",
            "Epoch: 13400/30000, Loss: 0.08610174059867859\n",
            "Epoch: 13500/30000, Loss: 0.0849759429693222\n",
            "Epoch: 13600/30000, Loss: 0.08385846763849258\n",
            "Epoch: 13700/30000, Loss: 0.0827496200799942\n",
            "Epoch: 13800/30000, Loss: 0.08164921402931213\n",
            "Epoch: 13900/30000, Loss: 0.08055692166090012\n",
            "Epoch: 14000/30000, Loss: 0.07947216928005219\n",
            "Epoch: 14100/30000, Loss: 0.07839524745941162\n",
            "Epoch: 14200/30000, Loss: 0.07732634991407394\n",
            "Epoch: 14300/30000, Loss: 0.07626504451036453\n",
            "Epoch: 14400/30000, Loss: 0.07521237432956696\n",
            "Epoch: 14500/30000, Loss: 0.07416794449090958\n",
            "Epoch: 14600/30000, Loss: 0.07313262671232224\n",
            "Epoch: 14700/30000, Loss: 0.07210484892129898\n",
            "Epoch: 14800/30000, Loss: 0.07108462601900101\n",
            "Epoch: 14900/30000, Loss: 0.07007192820310593\n",
            "Epoch: 15000/30000, Loss: 0.06906717270612717\n",
            "Epoch: 15100/30000, Loss: 0.06807199865579605\n",
            "Epoch: 15200/30000, Loss: 0.06708478927612305\n",
            "Epoch: 15300/30000, Loss: 0.06610506027936935\n",
            "Epoch: 15400/30000, Loss: 0.06513282656669617\n",
            "Epoch: 15500/30000, Loss: 0.06416822224855423\n",
            "Epoch: 15600/30000, Loss: 0.06321243196725845\n",
            "Epoch: 15700/30000, Loss: 0.062265802174806595\n",
            "Epoch: 15800/30000, Loss: 0.061326634138822556\n",
            "Epoch: 15900/30000, Loss: 0.060394953936338425\n",
            "Epoch: 16000/30000, Loss: 0.059470731765031815\n",
            "Epoch: 16100/30000, Loss: 0.05855466052889824\n",
            "Epoch: 16200/30000, Loss: 0.057647705078125\n",
            "Epoch: 16300/30000, Loss: 0.05674847587943077\n",
            "Epoch: 16400/30000, Loss: 0.05585677921772003\n",
            "Epoch: 16500/30000, Loss: 0.05497271940112114\n",
            "Epoch: 16600/30000, Loss: 0.054097142070531845\n",
            "Epoch: 16700/30000, Loss: 0.053230028599500656\n",
            "Epoch: 16800/30000, Loss: 0.05237072706222534\n",
            "Epoch: 16900/30000, Loss: 0.05151878669857979\n",
            "Epoch: 17000/30000, Loss: 0.050674792379140854\n",
            "Epoch: 17100/30000, Loss: 0.04983878880739212\n",
            "Epoch: 17200/30000, Loss: 0.04901134967803955\n",
            "Epoch: 17300/30000, Loss: 0.0481916144490242\n",
            "Epoch: 17400/30000, Loss: 0.047379545867443085\n",
            "Epoch: 17500/30000, Loss: 0.04657560959458351\n",
            "Epoch: 17600/30000, Loss: 0.0457795076072216\n",
            "Epoch: 17700/30000, Loss: 0.04499141871929169\n",
            "Epoch: 17800/30000, Loss: 0.04421094059944153\n",
            "Epoch: 17900/30000, Loss: 0.043438542634248734\n",
            "Epoch: 18000/30000, Loss: 0.042673856019973755\n",
            "Epoch: 18100/30000, Loss: 0.041917428374290466\n",
            "Epoch: 18200/30000, Loss: 0.04116877540946007\n",
            "Epoch: 18300/30000, Loss: 0.04042785242199898\n",
            "Epoch: 18400/30000, Loss: 0.03969453275203705\n",
            "Epoch: 18500/30000, Loss: 0.03896921128034592\n",
            "Epoch: 18600/30000, Loss: 0.03825204074382782\n",
            "Epoch: 18700/30000, Loss: 0.03754228353500366\n",
            "Epoch: 18800/30000, Loss: 0.036840442568063736\n",
            "Epoch: 18900/30000, Loss: 0.036146681755781174\n",
            "Epoch: 19000/30000, Loss: 0.03546053543686867\n",
            "Epoch: 19100/30000, Loss: 0.034781672060489655\n",
            "Epoch: 19200/30000, Loss: 0.03411111980676651\n",
            "Epoch: 19300/30000, Loss: 0.03344843536615372\n",
            "Epoch: 19400/30000, Loss: 0.03279293701052666\n",
            "Epoch: 19500/30000, Loss: 0.032145582139492035\n",
            "Epoch: 19600/30000, Loss: 0.031506165862083435\n",
            "Epoch: 19700/30000, Loss: 0.03087378665804863\n",
            "Epoch: 19800/30000, Loss: 0.03024943359196186\n",
            "Epoch: 19900/30000, Loss: 0.02963310107588768\n",
            "Epoch: 20000/30000, Loss: 0.029023807495832443\n",
            "Epoch: 20100/30000, Loss: 0.028422685340046883\n",
            "Epoch: 20200/30000, Loss: 0.027829164639115334\n",
            "Epoch: 20300/30000, Loss: 0.027242587879300117\n",
            "Epoch: 20400/30000, Loss: 0.02666460908949375\n",
            "Epoch: 20500/30000, Loss: 0.026093777269124985\n",
            "Epoch: 20600/30000, Loss: 0.025530360639095306\n",
            "Epoch: 20700/30000, Loss: 0.02497500739991665\n",
            "Epoch: 20800/30000, Loss: 0.024426501244306564\n",
            "Epoch: 20900/30000, Loss: 0.023886291310191154\n",
            "Epoch: 21000/30000, Loss: 0.02335323579609394\n",
            "Epoch: 21100/30000, Loss: 0.022827692329883575\n",
            "Epoch: 21200/30000, Loss: 0.022309813648462296\n",
            "Epoch: 21300/30000, Loss: 0.021798990666866302\n",
            "Epoch: 21400/30000, Loss: 0.021296296268701553\n",
            "Epoch: 21500/30000, Loss: 0.020800374448299408\n",
            "Epoch: 21600/30000, Loss: 0.020312538370490074\n",
            "Epoch: 21700/30000, Loss: 0.01983146369457245\n",
            "Epoch: 21800/30000, Loss: 0.01935846358537674\n",
            "Epoch: 21900/30000, Loss: 0.01889224350452423\n",
            "Epoch: 22000/30000, Loss: 0.018433885648846626\n",
            "Epoch: 22100/30000, Loss: 0.017982391640543938\n",
            "Epoch: 22200/30000, Loss: 0.01753871701657772\n",
            "Epoch: 22300/30000, Loss: 0.017101898789405823\n",
            "Epoch: 22400/30000, Loss: 0.01667267456650734\n",
            "Epoch: 22500/30000, Loss: 0.016250601038336754\n",
            "Epoch: 22600/30000, Loss: 0.01583571918308735\n",
            "Epoch: 22700/30000, Loss: 0.015428205952048302\n",
            "Epoch: 22800/30000, Loss: 0.015027683228254318\n",
            "Epoch: 22900/30000, Loss: 0.0146345729008317\n",
            "Epoch: 23000/30000, Loss: 0.014248484745621681\n",
            "Epoch: 23100/30000, Loss: 0.01386948674917221\n",
            "Epoch: 23200/30000, Loss: 0.0134977325797081\n",
            "Epoch: 23300/30000, Loss: 0.013132971711456776\n",
            "Epoch: 23400/30000, Loss: 0.012775229290127754\n",
            "Epoch: 23500/30000, Loss: 0.012424575164914131\n",
            "Epoch: 23600/30000, Loss: 0.012080996297299862\n",
            "Epoch: 23700/30000, Loss: 0.011744325049221516\n",
            "Epoch: 23800/30000, Loss: 0.011414512991905212\n",
            "Epoch: 23900/30000, Loss: 0.011091765016317368\n",
            "Epoch: 24000/30000, Loss: 0.010775855742394924\n",
            "Epoch: 24100/30000, Loss: 0.010466860607266426\n",
            "Epoch: 24200/30000, Loss: 0.010164659470319748\n",
            "Epoch: 24300/30000, Loss: 0.009869246743619442\n",
            "Epoch: 24400/30000, Loss: 0.009580599144101143\n",
            "Epoch: 24500/30000, Loss: 0.009298690594732761\n",
            "Epoch: 24600/30000, Loss: 0.009023484773933887\n",
            "Epoch: 24700/30000, Loss: 0.008754963986575603\n",
            "Epoch: 24800/30000, Loss: 0.008493066765367985\n",
            "Epoch: 24900/30000, Loss: 0.008237785659730434\n",
            "Epoch: 25000/30000, Loss: 0.00798903126269579\n",
            "Epoch: 25100/30000, Loss: 0.007746813353151083\n",
            "Epoch: 25200/30000, Loss: 0.007511040661484003\n",
            "Epoch: 25300/30000, Loss: 0.007281717378646135\n",
            "Epoch: 25400/30000, Loss: 0.007058790419250727\n",
            "Epoch: 25500/30000, Loss: 0.0068422299809753895\n",
            "Epoch: 25600/30000, Loss: 0.006631926633417606\n",
            "Epoch: 25700/30000, Loss: 0.006427910644561052\n",
            "Epoch: 25800/30000, Loss: 0.006230108439922333\n",
            "Epoch: 25900/30000, Loss: 0.006038437131792307\n",
            "Epoch: 26000/30000, Loss: 0.0058528827503323555\n",
            "Epoch: 26100/30000, Loss: 0.005673372186720371\n",
            "Epoch: 26200/30000, Loss: 0.005499871913343668\n",
            "Epoch: 26300/30000, Loss: 0.005332289729267359\n",
            "Epoch: 26400/30000, Loss: 0.005170605145394802\n",
            "Epoch: 26500/30000, Loss: 0.0050147403962910175\n",
            "Epoch: 26600/30000, Loss: 0.004864629823714495\n",
            "Epoch: 26700/30000, Loss: 0.00472020311281085\n",
            "Epoch: 26800/30000, Loss: 0.004581401590257883\n",
            "Epoch: 26900/30000, Loss: 0.004448156803846359\n",
            "Epoch: 27000/30000, Loss: 0.004320396110415459\n",
            "Epoch: 27100/30000, Loss: 0.004198044538497925\n",
            "Epoch: 27200/30000, Loss: 0.004081017337739468\n",
            "Epoch: 27300/30000, Loss: 0.003969240002334118\n",
            "Epoch: 27400/30000, Loss: 0.003862640354782343\n",
            "Epoch: 27500/30000, Loss: 0.0037611110601574183\n",
            "Epoch: 27600/30000, Loss: 0.0036645825020968914\n",
            "Epoch: 27700/30000, Loss: 0.003572954796254635\n",
            "Epoch: 27800/30000, Loss: 0.003486121539026499\n",
            "Epoch: 27900/30000, Loss: 0.0034039970487356186\n",
            "Epoch: 28000/30000, Loss: 0.0033264781814068556\n",
            "Epoch: 28100/30000, Loss: 0.0032534594647586346\n",
            "Epoch: 28200/30000, Loss: 0.003184822155162692\n",
            "Epoch: 28300/30000, Loss: 0.003120455425232649\n",
            "Epoch: 28400/30000, Loss: 0.003060254966840148\n",
            "Epoch: 28500/30000, Loss: 0.0030040822457522154\n",
            "Epoch: 28600/30000, Loss: 0.002951818285509944\n",
            "Epoch: 28700/30000, Loss: 0.002903333632275462\n",
            "Epoch: 28800/30000, Loss: 0.002858503255993128\n",
            "Epoch: 28900/30000, Loss: 0.0028171816375106573\n",
            "Epoch: 29000/30000, Loss: 0.0027792248874902725\n",
            "Epoch: 29100/30000, Loss: 0.00274450471624732\n",
            "Epoch: 29200/30000, Loss: 0.0027128602378070354\n",
            "Epoch: 29300/30000, Loss: 0.002684142906218767\n",
            "Epoch: 29400/30000, Loss: 0.002658203477039933\n",
            "Epoch: 29500/30000, Loss: 0.00263488432392478\n",
            "Epoch: 29600/30000, Loss: 0.00261402758769691\n",
            "Epoch: 29700/30000, Loss: 0.0025954758748412132\n",
            "Epoch: 29800/30000, Loss: 0.00257907179184258\n",
            "Epoch: 29900/30000, Loss: 0.0025646535214036703\n",
            "Epoch: 30000/30000, Loss: 0.0025520636700093746\n"
          ]
        }
      ]
    },
    {
      "cell_type": "code",
      "source": [
        "df_X_ss = ss.transform(df.drop(columns='Volume'))        # 입력 데이터에 대한 스케일링 수행\n",
        "df_y_mm = mm.transform(df.iloc[:, 5:6])                  # 출력 데이터에 대한 스케일링 수행\n",
        "\n",
        "df_X_ss = torch.Tensor(df_X_ss).to(device)               # Tensor로 변환 및 장치 설정\n",
        "df_y_mm = torch.Tensor(df_y_mm).to(device)\n",
        "\n",
        "df_X_ss = torch.reshape(df_X_ss, (df_X_ss.shape[0], 1, df_X_ss.shape[1]))         # 입력 데이터의 크기 재조정\n",
        "\n",
        "rnn.eval()         # 모델을 평가 모드로 설정\n",
        "with torch.no_grad():\n",
        "    test_outputs = rnn(df_X_ss.to(device))         # 모델을 사용하여 예측 결과 계산\n",
        "\n",
        "# 예측 결과와 실제 값 역변환\n",
        "test_outputs = test_outputs.cpu().numpy()                  # 예측 결과를 넘파이 배열로 변환\n",
        "test_outputs = mm.inverse_transform(test_outputs)          # 예측 결과에 대한 역변환 수행\n",
        "df_y = mm.inverse_transform(df_y_mm.data.cpu().numpy())    # 실제 값에 대한 역변환 수행\n",
        "\n",
        "# 그래프 그리기\n",
        "plt.figure(figsize=(10, 6))  \n",
        "plt.axvline(x=4500, c='r', linestyle='--')                # 테스트 데이터와 학습 데이터의 구분을 나타내는 수직선\n",
        "\n",
        "plt.plot(df_y, label='Actual Data')                       # 실제 값 그래프 그리기\n",
        "plt.plot(test_outputs, label='Predicted Data')            # 예측 결과 그래프 그리기\n",
        "plt.title('APPLE Prediction')\n",
        "plt.legend()\n",
        "plt.show()\n"
      ],
      "metadata": {
        "colab": {
          "base_uri": "https://localhost:8080/",
          "height": 545
        },
        "id": "6w-dQ1CNXx0i",
        "outputId": "fa8955bd-9df3-41fa-f9ca-f6c4600e9138"
      },
      "execution_count": null,
      "outputs": [
        {
          "output_type": "display_data",
          "data": {
            "text/plain": [
              "<Figure size 1000x600 with 1 Axes>"
            ],
            "image/png": "[encoded data removed]"
          },
          "metadata": {}
        }
      ]
    }
  ]
}
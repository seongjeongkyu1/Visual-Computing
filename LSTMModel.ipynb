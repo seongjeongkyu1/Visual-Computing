{
  "nbformat": 4,
  "nbformat_minor": 0,
  "metadata": {
    "colab": {
      "provenance": [],
      "gpuType": "T4"
    },
    "kernelspec": {
      "name": "python3",
      "display_name": "Python 3"
    },
    "language_info": {
      "name": "python"
    },
    "accelerator": "GPU"
  },
  "cells": [
    {
      "cell_type": "markdown",
      "source": [
        "#필요한 모듈 임포트"
      ],
      "metadata": {
        "id": "6OTeU3T90cMr"
      }
    },
    {
      "cell_type": "code",
      "execution_count": null,
      "metadata": {
        "colab": {
          "base_uri": "https://localhost:8080/"
        },
        "id": "-2A72oDd0TNF",
        "outputId": "7e2c9f30-3e1c-40e6-aae4-7d6ebf9b6aee"
      },
      "outputs": [
        {
          "output_type": "stream",
          "name": "stdout",
          "text": [
            "Python: 3.10.11 (main, Apr  5 2023, 14:15:10) [GCC 9.4.0]\n",
            "Numpy: 1.22.4\n",
            "Torch:  2.0.1+cu118\n"
          ]
        }
      ],
      "source": [
        "import sys\n",
        "import time\n",
        "import numpy as np\n",
        "import pandas as pd\n",
        "import matplotlib.pyplot as plt\n",
        "\n",
        "import datetime\n",
        "import yfinance as yf\n",
        "\n",
        "import torch\n",
        "import torch.nn as nn\n",
        "from torch.autograd import Variable \n",
        "\n",
        "import torch.optim as optim\n",
        "from torch.utils.data import Dataset, DataLoader\n",
        "\n",
        "print(\"Python:\", sys.version)\n",
        "print(\"Numpy:\", np.__version__)\n",
        "\n",
        "print(\"Torch: \", torch.__version__)               # 파이토치 버전을 확인하도록 한다.\n"
      ]
    },
    {
      "cell_type": "markdown",
      "source": [
        "#GPU 동작 확인"
      ],
      "metadata": {
        "id": "ygTkFdxr1Etm"
      }
    },
    {
      "cell_type": "code",
      "source": [
        "device = torch.device(\"cuda:0\" if torch.cuda.is_available() else \"cpu\")\n",
        "print(device)\n",
        "use_cuda = torch.cuda.is_available()\n",
        "print(use_cuda)\n",
        "if use_cuda:\n",
        "  print(torch.cuda.get_device_name(0))"
      ],
      "metadata": {
        "colab": {
          "base_uri": "https://localhost:8080/"
        },
        "id": "a4jdIqV11Hfw",
        "outputId": "542f95e1-6f22-40f5-cb6e-254cbb623b8c"
      },
      "execution_count": null,
      "outputs": [
        {
          "output_type": "stream",
          "name": "stdout",
          "text": [
            "cuda:0\n",
            "True\n",
            "Tesla T4\n"
          ]
        }
      ]
    },
    {
      "cell_type": "markdown",
      "source": [
        "#Hyperparameter 설정"
      ],
      "metadata": {
        "id": "d40-cxgl1TrZ"
      }
    },
    {
      "cell_type": "code",
      "source": [
        "num_epochs = 30000      #30000 epochs\n",
        "learning_rate = 0.00001       #0.001 학습률\n",
        "\n",
        "input_size = 5      # 입력 특성 수\n",
        "hidden_size = 2       # 은닉 상태의 특성 수\n",
        "num_layers = 1      # 쌓을 LSTM 레이어 수\n",
        "\n",
        "num_classes = 1     #출력 클래스 수"
      ],
      "metadata": {
        "id": "8Y8BTZI81XT7"
      },
      "execution_count": null,
      "outputs": []
    },
    {
      "cell_type": "markdown",
      "source": [
        "#Apple 주식 불러오기"
      ],
      "metadata": {
        "id": "dtUSY5fr1tvr"
      }
    },
    {
      "cell_type": "code",
      "source": [
        "# 시작일과 종료일 설정\n",
        "# 우크라이나 러시아 전쟁이 터진 직후의 애플 주식의 저점이였던 날을 end로 잡음\n",
        "start = datetime.datetime(2000, 1, 1)\n",
        "end = datetime.datetime(2022, 2, 24)\n",
        "\n",
        "# yahoo 에서 애플 불러오기 \n",
        "df = yf.download('AAPL', start=start, end=end)\n",
        "\n",
        "df.head(5)\n",
        "df.tail(5)\n",
        "df.Close.plot(grid=True)"
      ],
      "metadata": {
        "colab": {
          "base_uri": "https://localhost:8080/",
          "height": 458
        },
        "id": "PSFkhw-g1yKK",
        "outputId": "54f1d253-d152-4c81-ac3b-63e0ff4f0ef5"
      },
      "execution_count": null,
      "outputs": [
        {
          "output_type": "stream",
          "name": "stdout",
          "text": [
            "\r[*********************100%***********************]  1 of 1 completed\n"
          ]
        },
        {
          "output_type": "execute_result",
          "data": {
            "text/plain": [
              "<Axes: xlabel='Date'>"
            ]
          },
          "metadata": {},
          "execution_count": 4
        },
        {
          "output_type": "display_data",
          "data": {
            "text/plain": [
              "<Figure size 640x480 with 1 Axes>"
            ],
            "image/png": "[encoded data removed]"
          },
          "metadata": {}
        }
      ]
    },
    {
      "cell_type": "markdown",
      "source": [
        "#데이터셋 준비"
      ],
      "metadata": {
        "id": "VF6z6CF82Kzz"
      }
    },
    {
      "cell_type": "code",
      "source": [
        "\"\"\"\n",
        "open 시가\n",
        "high 고가\n",
        "low 저가\n",
        "close 종가\n",
        "volume 거래량\n",
        "Adj Close 주식의 분할, 배당, 배분 등을 고려해 조정한 종가\n",
        "\"\"\"\n",
        "X = df.drop(columns='Volume')\n",
        "y = df.iloc[:, 5:6]\n",
        "\n",
        "print(X)\n",
        "print(y)"
      ],
      "metadata": {
        "colab": {
          "base_uri": "https://localhost:8080/"
        },
        "id": "fhL7qYq-2NAI",
        "outputId": "353fb110-a192-4057-8df6-4736b0b95dbe"
      },
      "execution_count": null,
      "outputs": [
        {
          "output_type": "stream",
          "name": "stdout",
          "text": [
            "                  Open        High         Low       Close   Adj Close\n",
            "Date                                                                  \n",
            "2000-01-03    0.936384    1.004464    0.907924    0.999442    0.849469\n",
            "2000-01-04    0.966518    0.987723    0.903460    0.915179    0.777850\n",
            "2000-01-05    0.926339    0.987165    0.919643    0.928571    0.789232\n",
            "2000-01-06    0.947545    0.955357    0.848214    0.848214    0.720933\n",
            "2000-01-07    0.861607    0.901786    0.852679    0.888393    0.755083\n",
            "...                ...         ...         ...         ...         ...\n",
            "2022-02-16  171.850006  173.339996  170.050003  172.550003  171.274139\n",
            "2022-02-17  171.029999  171.910004  168.470001  168.880005  167.631271\n",
            "2022-02-18  169.820007  170.539993  166.190002  167.300003  166.062943\n",
            "2022-02-22  164.979996  166.690002  162.149994  164.320007  163.104996\n",
            "2022-02-23  165.539993  166.149994  159.750000  160.070007  158.886429\n",
            "\n",
            "[5572 rows x 5 columns]\n",
            "               Volume\n",
            "Date                 \n",
            "2000-01-03  535796800\n",
            "2000-01-04  512377600\n",
            "2000-01-05  778321600\n",
            "2000-01-06  767972800\n",
            "2000-01-07  460734400\n",
            "...               ...\n",
            "2022-02-16   61177400\n",
            "2022-02-17   69589300\n",
            "2022-02-18   82772700\n",
            "2022-02-22   91162800\n",
            "2022-02-23   90009200\n",
            "\n",
            "[5572 rows x 1 columns]\n"
          ]
        }
      ]
    },
    {
      "cell_type": "markdown",
      "source": [
        "#데이터셋 normalization"
      ],
      "metadata": {
        "id": "1vzAXfImWVgM"
      }
    },
    {
      "cell_type": "code",
      "source": [
        "from sklearn.preprocessing import StandardScaler, MinMaxScaler\n",
        "mm = MinMaxScaler()\n",
        "ss = StandardScaler()\n",
        "\n",
        "X_ss = ss.fit_transform(X)\n",
        "y_mm = mm.fit_transform(y) \n",
        "\n",
        "# Train 데이터\n",
        "X_train = X_ss[:4500, :]\n",
        "X_test = X_ss[4500:, :]\n",
        "\n",
        "# Test 데이터\n",
        "y_train = y_mm[:4500, :]\n",
        "y_test = y_mm[4500:, :] \n",
        "\n",
        "print(\"Training Shape\", X_train.shape, y_train.shape)\n",
        "print(\"Testing Shape\", X_test.shape, y_test.shape) "
      ],
      "metadata": {
        "colab": {
          "base_uri": "https://localhost:8080/"
        },
        "id": "MFdG1Szn2Tp9",
        "outputId": "b94f6e2e-5048-4f9b-ac23-d1af3f9e1b9f"
      },
      "execution_count": null,
      "outputs": [
        {
          "output_type": "stream",
          "name": "stdout",
          "text": [
            "Training Shape (4500, 5) (4500, 1)\n",
            "Testing Shape (1072, 5) (1072, 1)\n"
          ]
        }
      ]
    },
    {
      "cell_type": "markdown",
      "source": [
        "#데이터셋을 텐서로 변환"
      ],
      "metadata": {
        "id": "WwNX_7U6WhKz"
      }
    },
    {
      "cell_type": "code",
      "source": [
        "X_train_tensors = Variable(torch.Tensor(X_train))       # 학습 데이터의 입력 특성을 텐서로 변환\n",
        "X_test_tensors = Variable(torch.Tensor(X_test))         # 테스트 데이터의 입력 특성을 텐서로 변환\n",
        "\n",
        "y_train_tensors = Variable(torch.Tensor(y_train))       # 학습 데이터의 출력 레이블을 텐서로 변환\n",
        "y_test_tensors = Variable(torch.Tensor(y_test))          # 테스트 데이터의 출력 레이블을 텐서로 변환\n",
        "\n",
        "X_train_tensors_final = torch.reshape(X_train_tensors, (X_train_tensors.shape[0], 1, X_train_tensors.shape[1]))        # 학습 데이터의 텐서 크기 조정\n",
        "X_test_tensors_final = torch.reshape(X_test_tensors, (X_test_tensors.shape[0], 1, X_test_tensors.shape[1]))            # 테스트 데이터의 텐서 크기 조정\n",
        "\n",
        "print(\"Training Shape\", X_train_tensors_final.shape, y_train_tensors.shape)         # 학습 데이터의 모양 출력\n",
        "print(\"Testing Shape\", X_test_tensors_final.shape, y_test_tensors.shape)             # 테스트 데이터의 모양 출력\n"
      ],
      "metadata": {
        "colab": {
          "base_uri": "https://localhost:8080/"
        },
        "id": "6KeQGyv_2b5C",
        "outputId": "f973fe75-a3e7-400d-d706-b6ba2312b565"
      },
      "execution_count": null,
      "outputs": [
        {
          "output_type": "stream",
          "name": "stdout",
          "text": [
            "Training Shape torch.Size([4500, 1, 5]) torch.Size([4500, 1])\n",
            "Testing Shape torch.Size([1072, 1, 5]) torch.Size([1072, 1])\n"
          ]
        }
      ]
    },
    {
      "cell_type": "code",
      "source": [
        "class LSTMModel(nn.Module):\n",
        "    def __init__(self, input_size, hidden_size, num_layers, num_classes):\n",
        "        super(LSTMModel, self).__init__()\n",
        "        self.hidden_size = hidden_size\n",
        "        self.num_layers = num_layers\n",
        "\n",
        "        self.lstm = nn.LSTM(input_size, hidden_size, num_layers, batch_first=True)      # LSTM 레이어 생성\n",
        "        self.fc = nn.Linear(hidden_size, num_classes)        # 선형 레이어 생성\n",
        "        self.relu = nn.ReLU()        # ReLU 활성화 함수\n",
        "\n",
        "    def forward(self, x):\n",
        "        h_0 = torch.zeros(self.num_layers, x.size(0), self.hidden_size).to(x.device)       # 초기 은닉 상태 생성\n",
        "        c_0 = torch.zeros(self.num_layers, x.size(0), self.hidden_size).to(x.device)      # 초기 셀 상태 생성\n",
        "\n",
        "        out, _ = self.lstm(x, (h_0, c_0))       # LSTM 레이어를 통해 순방향 전파\n",
        "        out = out[:, -1, :]          # 선택적으로 마지막 시퀀스 출력만 사용할 수 있습니다.\n",
        "        out = self.relu(out)         # ReLU 적용\n",
        "        out = self.fc(out)           # 선형 레이어를 통해 출력 계산\n",
        "\n",
        "        return out\n"
      ],
      "metadata": {
        "id": "ksFJOqu5_-2r"
      },
      "execution_count": null,
      "outputs": []
    },
    {
      "cell_type": "code",
      "source": [
        "lstm = LSTMModel(input_size, hidden_size, num_layers, num_classes).to(device)      # LSTM 모델 인스턴스 생성 및 디바이스에 할당\n",
        "\n",
        "criterion = nn.MSELoss()      # 평균 제곱 오차(MSE) 손실 함수 정의\n",
        "optimizer = torch.optim.Adam(lstm.parameters(), lr=learning_rate)       # Adam 옵티마이저 생성 및 모델의 파라미터를 등록하여 최적화 수행\n"
      ],
      "metadata": {
        "id": "lM2xwmgvBHVO"
      },
      "execution_count": null,
      "outputs": []
    },
    {
      "cell_type": "code",
      "source": [
        "for epoch in range(num_epochs):\n",
        "    # Forward 패스\n",
        "    outputs = lstm(X_train_tensors_final.to(device))         # 입력 데이터를 모델에 전달하여 예측값 계산\n",
        "    loss = criterion(outputs, y_train_tensors.to(device))         # 예측값과 실제 값 사이의 손실 계산\n",
        "\n",
        "    # Backward 패스 및 최적화\n",
        "    optimizer.zero_grad()        # 기울기 초기화\n",
        "    loss.backward()              # backpropagation을 통해 기울기 계산\n",
        "    optimizer.step()             # 옵티마이저를 사용하여 모델의 파라미터 업데이트\n",
        "\n",
        "    if (epoch + 1) % 100 == 0:\n",
        "        print(f'Epoch: {epoch+1}/{num_epochs}, Loss: {loss.item()}')        # 일정 간격으로 현재 에포크와 손실 출력\n"
      ],
      "metadata": {
        "colab": {
          "base_uri": "https://localhost:8080/"
        },
        "id": "VXov-qRvBPU6",
        "outputId": "3e293b0c-73ea-46d0-83ae-cbe4d734be61"
      },
      "execution_count": null,
      "outputs": [
        {
          "output_type": "stream",
          "name": "stdout",
          "text": [
            "Epoch: 100/30000, Loss: 0.016156906262040138\n",
            "Epoch: 200/30000, Loss: 0.015763625502586365\n",
            "Epoch: 300/30000, Loss: 0.015391457825899124\n",
            "Epoch: 400/30000, Loss: 0.015039408579468727\n",
            "Epoch: 500/30000, Loss: 0.014706517569720745\n",
            "Epoch: 600/30000, Loss: 0.01439195778220892\n",
            "Epoch: 700/30000, Loss: 0.014094934798777103\n",
            "Epoch: 800/30000, Loss: 0.013814487494528294\n",
            "Epoch: 900/30000, Loss: 0.013549568131566048\n",
            "Epoch: 1000/30000, Loss: 0.01329942885786295\n",
            "Epoch: 1100/30000, Loss: 0.013063114136457443\n",
            "Epoch: 1200/30000, Loss: 0.012839731760323048\n",
            "Epoch: 1300/30000, Loss: 0.012628253549337387\n",
            "Epoch: 1400/30000, Loss: 0.012427661567926407\n",
            "Epoch: 1500/30000, Loss: 0.0122368847951293\n",
            "Epoch: 1600/30000, Loss: 0.012054943479597569\n",
            "Epoch: 1700/30000, Loss: 0.011880794540047646\n",
            "Epoch: 1800/30000, Loss: 0.011713518761098385\n",
            "Epoch: 1900/30000, Loss: 0.011552086099982262\n",
            "Epoch: 2000/30000, Loss: 0.011395570822060108\n",
            "Epoch: 2100/30000, Loss: 0.011243123561143875\n",
            "Epoch: 2200/30000, Loss: 0.01109396107494831\n",
            "Epoch: 2300/30000, Loss: 0.010947522707283497\n",
            "Epoch: 2400/30000, Loss: 0.010803166776895523\n",
            "Epoch: 2500/30000, Loss: 0.010660641826689243\n",
            "Epoch: 2600/30000, Loss: 0.010519441217184067\n",
            "Epoch: 2700/30000, Loss: 0.010379413142800331\n",
            "Epoch: 2800/30000, Loss: 0.010240511037409306\n",
            "Epoch: 2900/30000, Loss: 0.010102622210979462\n",
            "Epoch: 3000/30000, Loss: 0.009965521283447742\n",
            "Epoch: 3100/30000, Loss: 0.009829332120716572\n",
            "Epoch: 3200/30000, Loss: 0.009693983942270279\n",
            "Epoch: 3300/30000, Loss: 0.009559464640915394\n",
            "Epoch: 3400/30000, Loss: 0.009425879456102848\n",
            "Epoch: 3500/30000, Loss: 0.00929318368434906\n",
            "Epoch: 3600/30000, Loss: 0.00916153471916914\n",
            "Epoch: 3700/30000, Loss: 0.009030948393046856\n",
            "Epoch: 3800/30000, Loss: 0.00890150386840105\n",
            "Epoch: 3900/30000, Loss: 0.008773191832005978\n",
            "Epoch: 4000/30000, Loss: 0.008646057918667793\n",
            "Epoch: 4100/30000, Loss: 0.008520159870386124\n",
            "Epoch: 4200/30000, Loss: 0.00839551817625761\n",
            "Epoch: 4300/30000, Loss: 0.008272174745798111\n",
            "Epoch: 4400/30000, Loss: 0.008150172419846058\n",
            "Epoch: 4500/30000, Loss: 0.008029526099562645\n",
            "Epoch: 4600/30000, Loss: 0.007910257205367088\n",
            "Epoch: 4700/30000, Loss: 0.007792428135871887\n",
            "Epoch: 4800/30000, Loss: 0.007676017004996538\n",
            "Epoch: 4900/30000, Loss: 0.007561062462627888\n",
            "Epoch: 5000/30000, Loss: 0.007447646465152502\n",
            "Epoch: 5100/30000, Loss: 0.00733572244644165\n",
            "Epoch: 5200/30000, Loss: 0.007225320674479008\n",
            "Epoch: 5300/30000, Loss: 0.007116489112377167\n",
            "Epoch: 5400/30000, Loss: 0.007009223103523254\n",
            "Epoch: 5500/30000, Loss: 0.00690353661775589\n",
            "Epoch: 5600/30000, Loss: 0.0067993998527526855\n",
            "Epoch: 5700/30000, Loss: 0.006696837022900581\n",
            "Epoch: 5800/30000, Loss: 0.00659586675465107\n",
            "Epoch: 5900/30000, Loss: 0.0064964923076331615\n",
            "Epoch: 6000/30000, Loss: 0.006398702040314674\n",
            "Epoch: 6100/30000, Loss: 0.006302515044808388\n",
            "Epoch: 6200/30000, Loss: 0.006207911763340235\n",
            "Epoch: 6300/30000, Loss: 0.006114899646490812\n",
            "Epoch: 6400/30000, Loss: 0.006023465655744076\n",
            "Epoch: 6500/30000, Loss: 0.005933580454438925\n",
            "Epoch: 6600/30000, Loss: 0.005845267325639725\n",
            "Epoch: 6700/30000, Loss: 0.005758500192314386\n",
            "Epoch: 6800/30000, Loss: 0.005673274863511324\n",
            "Epoch: 6900/30000, Loss: 0.005589568521827459\n",
            "Epoch: 7000/30000, Loss: 0.005507391411811113\n",
            "Epoch: 7100/30000, Loss: 0.005426706280559301\n",
            "Epoch: 7200/30000, Loss: 0.005347518716007471\n",
            "Epoch: 7300/30000, Loss: 0.0052698105573654175\n",
            "Epoch: 7400/30000, Loss: 0.005193562246859074\n",
            "Epoch: 7500/30000, Loss: 0.005118774250149727\n",
            "Epoch: 7600/30000, Loss: 0.005045412108302116\n",
            "Epoch: 7700/30000, Loss: 0.004973493050783873\n",
            "Epoch: 7800/30000, Loss: 0.0049029989168047905\n",
            "Epoch: 7900/30000, Loss: 0.004833926912397146\n",
            "Epoch: 8000/30000, Loss: 0.004766248632222414\n",
            "Epoch: 8100/30000, Loss: 0.004699961747974157\n",
            "Epoch: 8200/30000, Loss: 0.00463502062484622\n",
            "Epoch: 8300/30000, Loss: 0.004571417346596718\n",
            "Epoch: 8400/30000, Loss: 0.004509161226451397\n",
            "Epoch: 8500/30000, Loss: 0.004448228515684605\n",
            "Epoch: 8600/30000, Loss: 0.004388592205941677\n",
            "Epoch: 8700/30000, Loss: 0.004330216441303492\n",
            "Epoch: 8800/30000, Loss: 0.00427310960367322\n",
            "Epoch: 8900/30000, Loss: 0.0042172386310994625\n",
            "Epoch: 9000/30000, Loss: 0.004162592813372612\n",
            "Epoch: 9100/30000, Loss: 0.004109142813831568\n",
            "Epoch: 9200/30000, Loss: 0.004056897480040789\n",
            "Epoch: 9300/30000, Loss: 0.004005814902484417\n",
            "Epoch: 9400/30000, Loss: 0.003955886699259281\n",
            "Epoch: 9500/30000, Loss: 0.003907107748091221\n",
            "Epoch: 9600/30000, Loss: 0.0038594466168433428\n",
            "Epoch: 9700/30000, Loss: 0.0038128886371850967\n",
            "Epoch: 9800/30000, Loss: 0.0037674123886972666\n",
            "Epoch: 9900/30000, Loss: 0.003723003901541233\n",
            "Epoch: 10000/30000, Loss: 0.0036796608474105597\n",
            "Epoch: 10100/30000, Loss: 0.0036373648326843977\n",
            "Epoch: 10200/30000, Loss: 0.0035960774403065443\n",
            "Epoch: 10300/30000, Loss: 0.0035557900555431843\n",
            "Epoch: 10400/30000, Loss: 0.0035164919681847095\n",
            "Epoch: 10500/30000, Loss: 0.0034781680442392826\n",
            "Epoch: 10600/30000, Loss: 0.0034408068750053644\n",
            "Epoch: 10700/30000, Loss: 0.003404397051781416\n",
            "Epoch: 10800/30000, Loss: 0.003368915058672428\n",
            "Epoch: 10900/30000, Loss: 0.0033343457616865635\n",
            "Epoch: 11000/30000, Loss: 0.003300674492493272\n",
            "Epoch: 11100/30000, Loss: 0.0032678889110684395\n",
            "Epoch: 11200/30000, Loss: 0.0032359687611460686\n",
            "Epoch: 11300/30000, Loss: 0.0032048956491053104\n",
            "Epoch: 11400/30000, Loss: 0.0031746437307447195\n",
            "Epoch: 11500/30000, Loss: 0.0031452158000320196\n",
            "Epoch: 11600/30000, Loss: 0.0031165913678705692\n",
            "Epoch: 11700/30000, Loss: 0.003088741796091199\n",
            "Epoch: 11800/30000, Loss: 0.003061675699427724\n",
            "Epoch: 11900/30000, Loss: 0.0030353821348398924\n",
            "Epoch: 12000/30000, Loss: 0.003009843174368143\n",
            "Epoch: 12100/30000, Loss: 0.002985045313835144\n",
            "Epoch: 12200/30000, Loss: 0.0029609701596200466\n",
            "Epoch: 12300/30000, Loss: 0.002937611658126116\n",
            "Epoch: 12400/30000, Loss: 0.0029149518813937902\n",
            "Epoch: 12500/30000, Loss: 0.0028929738327860832\n",
            "Epoch: 12600/30000, Loss: 0.00287167401984334\n",
            "Epoch: 12700/30000, Loss: 0.0028510321862995625\n",
            "Epoch: 12800/30000, Loss: 0.0028310350608080626\n",
            "Epoch: 12900/30000, Loss: 0.0028116756584495306\n",
            "Epoch: 13000/30000, Loss: 0.0027929432690143585\n",
            "Epoch: 13100/30000, Loss: 0.0027748297434300184\n",
            "Epoch: 13200/30000, Loss: 0.002757321810349822\n",
            "Epoch: 13300/30000, Loss: 0.0027404094580560923\n",
            "Epoch: 13400/30000, Loss: 0.0027240810450166464\n",
            "Epoch: 13500/30000, Loss: 0.0027083230670541525\n",
            "Epoch: 13600/30000, Loss: 0.002693131333217025\n",
            "Epoch: 13700/30000, Loss: 0.0026784962974488735\n",
            "Epoch: 13800/30000, Loss: 0.0026644053868949413\n",
            "Epoch: 13900/30000, Loss: 0.0026508462615311146\n",
            "Epoch: 14000/30000, Loss: 0.002637808211147785\n",
            "Epoch: 14100/30000, Loss: 0.0026252828538417816\n",
            "Epoch: 14200/30000, Loss: 0.002613263437524438\n",
            "Epoch: 14300/30000, Loss: 0.002601741813123226\n",
            "Epoch: 14400/30000, Loss: 0.002590704243630171\n",
            "Epoch: 14500/30000, Loss: 0.0025801428128033876\n",
            "Epoch: 14600/30000, Loss: 0.0025700463447719812\n",
            "Epoch: 14700/30000, Loss: 0.0025604066904634237\n",
            "Epoch: 14800/30000, Loss: 0.002551211044192314\n",
            "Epoch: 14900/30000, Loss: 0.0025424472987651825\n",
            "Epoch: 15000/30000, Loss: 0.0025341042783111334\n",
            "Epoch: 15100/30000, Loss: 0.0025261715054512024\n",
            "Epoch: 15200/30000, Loss: 0.002518634544685483\n",
            "Epoch: 15300/30000, Loss: 0.00251148478128016\n",
            "Epoch: 15400/30000, Loss: 0.0025047094095498323\n",
            "Epoch: 15500/30000, Loss: 0.002498297020792961\n",
            "Epoch: 15600/30000, Loss: 0.0024922338780015707\n",
            "Epoch: 15700/30000, Loss: 0.0024865083396434784\n",
            "Epoch: 15800/30000, Loss: 0.0024811080656945705\n",
            "Epoch: 15900/30000, Loss: 0.00247602048330009\n",
            "Epoch: 16000/30000, Loss: 0.0024712274316698313\n",
            "Epoch: 16100/30000, Loss: 0.002466722624376416\n",
            "Epoch: 16200/30000, Loss: 0.0024624939542263746\n",
            "Epoch: 16300/30000, Loss: 0.0024585300125181675\n",
            "Epoch: 16400/30000, Loss: 0.0024548170622438192\n",
            "Epoch: 16500/30000, Loss: 0.0024513460230082273\n",
            "Epoch: 16600/30000, Loss: 0.0024481082800775766\n",
            "Epoch: 16700/30000, Loss: 0.0024450928904116154\n",
            "Epoch: 16800/30000, Loss: 0.002442289376631379\n",
            "Epoch: 16900/30000, Loss: 0.0024396884255111217\n",
            "Epoch: 17000/30000, Loss: 0.0024372783955186605\n",
            "Epoch: 17100/30000, Loss: 0.0024350506719201803\n",
            "Epoch: 17200/30000, Loss: 0.0024329936131834984\n",
            "Epoch: 17300/30000, Loss: 0.0024310972075909376\n",
            "Epoch: 17400/30000, Loss: 0.0024293502792716026\n",
            "Epoch: 17500/30000, Loss: 0.0024277421180158854\n",
            "Epoch: 17600/30000, Loss: 0.002426261780783534\n",
            "Epoch: 17700/30000, Loss: 0.0024248973932117224\n",
            "Epoch: 17800/30000, Loss: 0.002423637779429555\n",
            "Epoch: 17900/30000, Loss: 0.002422472694888711\n",
            "Epoch: 18000/30000, Loss: 0.0024213925935328007\n",
            "Epoch: 18100/30000, Loss: 0.002420388162136078\n",
            "Epoch: 18200/30000, Loss: 0.0024194475263357162\n",
            "Epoch: 18300/30000, Loss: 0.002418561838567257\n",
            "Epoch: 18400/30000, Loss: 0.002417720854282379\n",
            "Epoch: 18500/30000, Loss: 0.002416916424408555\n",
            "Epoch: 18600/30000, Loss: 0.0024161427281796932\n",
            "Epoch: 18700/30000, Loss: 0.0024153937119990587\n",
            "Epoch: 18800/30000, Loss: 0.00241466355510056\n",
            "Epoch: 18900/30000, Loss: 0.0024139489978551865\n",
            "Epoch: 19000/30000, Loss: 0.002413244219496846\n",
            "Epoch: 19100/30000, Loss: 0.0024125450290739536\n",
            "Epoch: 19200/30000, Loss: 0.002411848632618785\n",
            "Epoch: 19300/30000, Loss: 0.002411152934655547\n",
            "Epoch: 19400/30000, Loss: 0.002410456072539091\n",
            "Epoch: 19500/30000, Loss: 0.002409757813438773\n",
            "Epoch: 19600/30000, Loss: 0.002409057691693306\n",
            "Epoch: 19700/30000, Loss: 0.002408354775980115\n",
            "Epoch: 19800/30000, Loss: 0.0024076492991298437\n",
            "Epoch: 19900/30000, Loss: 0.0024069412611424923\n",
            "Epoch: 20000/30000, Loss: 0.0024062292650341988\n",
            "Epoch: 20100/30000, Loss: 0.002405513310804963\n",
            "Epoch: 20200/30000, Loss: 0.0024047945626080036\n",
            "Epoch: 20300/30000, Loss: 0.0024040727876126766\n",
            "Epoch: 20400/30000, Loss: 0.002403347985818982\n",
            "Epoch: 20500/30000, Loss: 0.00240262015722692\n",
            "Epoch: 20600/30000, Loss: 0.0024018893018364906\n",
            "Epoch: 20700/30000, Loss: 0.002401157049462199\n",
            "Epoch: 20800/30000, Loss: 0.002400422701612115\n",
            "Epoch: 20900/30000, Loss: 0.002399686723947525\n",
            "Epoch: 21000/30000, Loss: 0.0023989491164684296\n",
            "Epoch: 21100/30000, Loss: 0.002398211508989334\n",
            "Epoch: 21200/30000, Loss: 0.002397474367171526\n",
            "Epoch: 21300/30000, Loss: 0.0023967379238456488\n",
            "Epoch: 21400/30000, Loss: 0.002396001247689128\n",
            "Epoch: 21500/30000, Loss: 0.002395264571532607\n",
            "Epoch: 21600/30000, Loss: 0.0023945276625454426\n",
            "Epoch: 21700/30000, Loss: 0.0023937912192195654\n",
            "Epoch: 21800/30000, Loss: 0.002393055008724332\n",
            "Epoch: 21900/30000, Loss: 0.0023923192638903856\n",
            "Epoch: 22000/30000, Loss: 0.002391582587733865\n",
            "Epoch: 22100/30000, Loss: 0.0023908463772386312\n",
            "Epoch: 22200/30000, Loss: 0.0023901103995740414\n",
            "Epoch: 22300/30000, Loss: 0.002389373956248164\n",
            "Epoch: 22400/30000, Loss: 0.0023886372800916433\n",
            "Epoch: 22500/30000, Loss: 0.0023878999054431915\n",
            "Epoch: 22600/30000, Loss: 0.0023871613666415215\n",
            "Epoch: 22700/30000, Loss: 0.002386421663686633\n",
            "Epoch: 22800/30000, Loss: 0.002385680563747883\n",
            "Epoch: 22900/30000, Loss: 0.002384937135502696\n",
            "Epoch: 23000/30000, Loss: 0.0023841913789510727\n",
            "Epoch: 23100/30000, Loss: 0.0023834437597543\n",
            "Epoch: 23200/30000, Loss: 0.0023826933465898037\n",
            "Epoch: 23300/30000, Loss: 0.0023819399066269398\n",
            "Epoch: 23400/30000, Loss: 0.002381185069680214\n",
            "Epoch: 23500/30000, Loss: 0.002380427671596408\n",
            "Epoch: 23600/30000, Loss: 0.002379668178036809\n",
            "Epoch: 23700/30000, Loss: 0.0023789049591869116\n",
            "Epoch: 23800/30000, Loss: 0.0023781382478773594\n",
            "Epoch: 23900/30000, Loss: 0.002377366879954934\n",
            "Epoch: 24000/30000, Loss: 0.002376589924097061\n",
            "Epoch: 24100/30000, Loss: 0.002375810407102108\n",
            "Epoch: 24200/30000, Loss: 0.0023750283289700747\n",
            "Epoch: 24300/30000, Loss: 0.002374244388192892\n",
            "Epoch: 24400/30000, Loss: 0.002373461378738284\n",
            "Epoch: 24500/30000, Loss: 0.00237267860211432\n",
            "Epoch: 24600/30000, Loss: 0.0023718939628452063\n",
            "Epoch: 24700/30000, Loss: 0.0023711072281003\n",
            "Epoch: 24800/30000, Loss: 0.002370319329202175\n",
            "Epoch: 24900/30000, Loss: 0.0023695335257798433\n",
            "Epoch: 25000/30000, Loss: 0.002368753310292959\n",
            "Epoch: 25100/30000, Loss: 0.0023679735604673624\n",
            "Epoch: 25200/30000, Loss: 0.002367194276303053\n",
            "Epoch: 25300/30000, Loss: 0.002366414060816169\n",
            "Epoch: 25400/30000, Loss: 0.002365636173635721\n",
            "Epoch: 25500/30000, Loss: 0.0023648650385439396\n",
            "Epoch: 25600/30000, Loss: 0.002364096697419882\n",
            "Epoch: 25700/30000, Loss: 0.0023633299861103296\n",
            "Epoch: 25800/30000, Loss: 0.002362564904615283\n",
            "Epoch: 25900/30000, Loss: 0.0023618023842573166\n",
            "Epoch: 26000/30000, Loss: 0.002361041260883212\n",
            "Epoch: 26100/30000, Loss: 0.002360281301662326\n",
            "Epoch: 26200/30000, Loss: 0.0023595241364091635\n",
            "Epoch: 26300/30000, Loss: 0.002358768368139863\n",
            "Epoch: 26400/30000, Loss: 0.0023580139968544245\n",
            "Epoch: 26500/30000, Loss: 0.002357262885197997\n",
            "Epoch: 26600/30000, Loss: 0.0023565141018480062\n",
            "Epoch: 26700/30000, Loss: 0.0023557678796350956\n",
            "Epoch: 26800/30000, Loss: 0.002355017699301243\n",
            "Epoch: 26900/30000, Loss: 0.0023542691487818956\n",
            "Epoch: 27000/30000, Loss: 0.002353522926568985\n",
            "Epoch: 27100/30000, Loss: 0.002352779731154442\n",
            "Epoch: 27200/30000, Loss: 0.0023520388640463352\n",
            "Epoch: 27300/30000, Loss: 0.002351299626752734\n",
            "Epoch: 27400/30000, Loss: 0.0023505634162575006\n",
            "Epoch: 27500/30000, Loss: 0.0023498297668993473\n",
            "Epoch: 27600/30000, Loss: 0.0023490970488637686\n",
            "Epoch: 27700/30000, Loss: 0.0023483559489250183\n",
            "Epoch: 27800/30000, Loss: 0.0023476178757846355\n",
            "Epoch: 27900/30000, Loss: 0.002346885157749057\n",
            "Epoch: 28000/30000, Loss: 0.0023461561650037766\n",
            "Epoch: 28100/30000, Loss: 0.0023454262409359217\n",
            "Epoch: 28200/30000, Loss: 0.0023446986451745033\n",
            "Epoch: 28300/30000, Loss: 0.002343973144888878\n",
            "Epoch: 28400/30000, Loss: 0.002343249972909689\n",
            "Epoch: 28500/30000, Loss: 0.0023425293620675802\n",
            "Epoch: 28600/30000, Loss: 0.0023418068885803223\n",
            "Epoch: 28700/30000, Loss: 0.0023410895373672247\n",
            "Epoch: 28800/30000, Loss: 0.002340375678613782\n",
            "Epoch: 28900/30000, Loss: 0.0023396622855216265\n",
            "Epoch: 29000/30000, Loss: 0.0023389479611068964\n",
            "Epoch: 29100/30000, Loss: 0.0023382315412163734\n",
            "Epoch: 29200/30000, Loss: 0.002337510697543621\n",
            "Epoch: 29300/30000, Loss: 0.0023367898538708687\n",
            "Epoch: 29400/30000, Loss: 0.002336071105673909\n",
            "Epoch: 29500/30000, Loss: 0.002335355384275317\n",
            "Epoch: 29600/30000, Loss: 0.0023346405941993\n",
            "Epoch: 29700/30000, Loss: 0.0023339269682765007\n",
            "Epoch: 29800/30000, Loss: 0.0023332154378294945\n",
            "Epoch: 29900/30000, Loss: 0.0023325050715357065\n",
            "Epoch: 30000/30000, Loss: 0.0023317947052419186\n"
          ]
        }
      ]
    },
    {
      "cell_type": "code",
      "source": [
        "df_X_ss = ss.transform(df.drop(columns='Volume'))        # 입력 데이터에 대한 스케일링 수행\n",
        "df_y_mm = mm.transform(df.iloc[:, 5:6])                  # 출력 데이터에 대한 스케일링 수행\n",
        "\n",
        "df_X_ss = torch.Tensor(df_X_ss).to(device)               # Tensor로 변환 및 장치 설정\n",
        "df_y_mm = torch.Tensor(df_y_mm).to(device)\n",
        "\n",
        "df_X_ss = torch.reshape(df_X_ss, (df_X_ss.shape[0], 1, df_X_ss.shape[1]))         # 입력 데이터의 크기 재조정\n",
        "\n",
        "lstm.eval()         # 모델을 평가 모드로 설정\n",
        "with torch.no_grad():\n",
        "    test_outputs = lstm(df_X_ss.to(device))         # 모델을 사용하여 예측 결과 계산\n",
        "\n",
        "# 예측 결과와 실제 값 역변환\n",
        "test_outputs = test_outputs.cpu().numpy()                  # 예측 결과를 넘파이 배열로 변환\n",
        "test_outputs = mm.inverse_transform(test_outputs)          # 예측 결과에 대한 역변환 수행\n",
        "df_y = mm.inverse_transform(df_y_mm.data.cpu().numpy())    # 실제 값에 대한 역변환 수행\n",
        "\n",
        "# 그래프 그리기\n",
        "plt.figure(figsize=(10, 6))\n",
        "plt.axvline(x=4500, c='r', linestyle='--')                # 테스트 데이터와 학습 데이터의 구분을 나타내는 수직선\n",
        "\n",
        "plt.plot(df_y, label='Actual Data')                       # 실제 값 그래프 그리기\n",
        "plt.plot(test_outputs, label='Predicted Data')            # 예측 결과 그래프 그리기\n",
        "plt.title('APPLE Prediction')\n",
        "plt.legend()\n",
        "plt.show()\n"
      ],
      "metadata": {
        "colab": {
          "base_uri": "https://localhost:8080/",
          "height": 545
        },
        "id": "yOVb8P1BCPle",
        "outputId": "97286e2a-c380-4817-c130-06b5701966d7"
      },
      "execution_count": null,
      "outputs": [
        {
          "output_type": "display_data",
          "data": {
            "text/plain": [
              "<Figure size 1000x600 with 1 Axes>"
            ],
            "image/png": "[encoded data removed]"
          },
          "metadata": {}
        }
      ]
    }
  ]
}